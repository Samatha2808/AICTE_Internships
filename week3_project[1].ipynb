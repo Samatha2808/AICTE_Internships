{
 "cells": [
  {
   "cell_type": "code",
   "execution_count": null,
   "id": "a4c510c6-c851-4fdd-90e6-3e49952f0f91",
   "metadata": {},
   "outputs": [],
   "source": [
    "# Week 3 - Smart Irrigation Final Code\n",
    "\n",
    "# Step 1: Import necessary libraries\n",
    "import random\n",
    "import matplotlib.pyplot as plt\n",
    "import time\n",
    "\n",
    "# Step 2: Simulate sensor data (Moisture, Temperature)\n",
    "def get_sensor_data():\n",
    "    moisture = random.randint(10, 100)     # % moisture\n",
    "    temperature = random.randint(20, 40)   # Celsius\n",
    "    return moisture, temperature\n",
    "\n",
    "# Step 3: Irrigation control logic based on moisture level\n",
    "def control_irrigation(moisture):\n",
    "    if moisture < 30:\n",
    "        return \"ON\"\n",
    "    else:\n",
    "        return \"OFF\"\n",
    "\n",
    "# Step 4: Collect and display data\n",
    "moisture_data = []\n",
    "temperature_data = []\n",
    "pump_status = []\n",
    "\n",
    "print(\"Reading Sensor Data and Controlling Irrigation...\\n\")\n",
    "for i in range(10):\n",
    "    moisture, temp = get_sensor_data()\n",
    "    status = control_irrigation(moisture)\n",
    "\n",
    "    moisture_data.append(moisture)\n",
    "    temperature_data.append(temp)\n",
    "    pump_status.append(status)\n",
    "\n",
    "    print(f\"Reading {i+1}: Moisture = {moisture}%, Temp = {temp}°C --> Pump: {status}\")\n",
    "    time.sleep(0.5)  # simulate delay\n",
    "\n",
    "# Step 5: Visualization\n",
    "plt.figure(figsize=(10, 5))\n",
    "\n",
    "plt.plot(moisture_data, label=\"Moisture Level (%)\", marker='o')\n",
    "plt.plot(temperature_data, label=\"Temperature (°C)\", marker='s')\n",
    "plt.title(\"Sensor Data Readings\")\n",
    "plt.xlabel(\"Reading Number\")\n",
    "plt.ylabel(\"Value\")\n",
    "plt.legend()\n",
    "plt.grid(True)\n",
    "plt.show()\n",
    "\n",
    "# Step 6: Summary\n",
    "on_count = pump_status.count(\"ON\")\n",
    "off_count = pump_status.count(\"OFF\")\n",
    "print(\"\\nPump ON count:\", on_count)\n",
    "print(\"Pump OFF count:\", off_count)"
   ]
  }
 ],
 "metadata": {
  "kernelspec": {
   "display_name": "Python 3 (ipykernel)",
   "language": "python",
   "name": "python3"
  },
  "language_info": {
   "codemirror_mode": {
    "name": "ipython",
    "version": 3
   },
   "file_extension": ".py",
   "mimetype": "text/x-python",
   "name": "python",
   "nbconvert_exporter": "python",
   "pygments_lexer": "ipython3",
   "version": "3.12.7"
  }
 },
 "nbformat": 4,
 "nbformat_minor": 5
}
