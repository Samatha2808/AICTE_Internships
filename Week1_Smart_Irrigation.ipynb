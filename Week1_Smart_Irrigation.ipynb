# Import required libraries
import pandas as pd
import matplotlib.pyplot as plt

# Create a sample DataFrame
data = {
    'Moisture_Level': [70, 50, 30, 60, 20],
    'Temperature': [30, 32, 34, 28, 36]
}
df = pd.DataFrame(data)

# Define irrigation logic
def irrigation_status(moisture):
    if moisture < 40:
        return "Needs Irrigation"
    else:
        return "No Irrigation Needed"

# Apply the function to create a new column
df['Irrigation_Status'] = df['Moisture_Level'].apply(irrigation_status)

# Display the DataFrame
print(df)

# Line Graph
plt.figure(figsize=(8, 4))
plt.plot(df['Moisture_Level'], label='Moisture Level', marker='o')
plt.plot(df['Temperature'], label='Temperature', marker='x')
plt.title("Smart Irrigation - Line Graph")
plt.xlabel("Sample Number")
plt.ylabel("Values")
plt.legend()
plt.grid(True)
plt.show()

# Bar Graph
plt.figure(figsize=(8, 4))
df[['Moisture_Level', 'Temperature']].plot(kind='bar')
plt.title("Smart Irrigation - Bar Graph")
plt.xlabel("Sample Index")
plt.ylabel("Values")
plt.grid(True)
plt.show()