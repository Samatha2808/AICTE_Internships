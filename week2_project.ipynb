{
 "cells": [
  {
   "cell_type": "code",
   "execution_count": 1,
   "id": "fbd92151-db8f-4879-b69a-c9408d57fb06",
   "metadata": {},
   "outputs": [
    {
     "name": "stdout",
     "output_type": "stream",
     "text": [
      "Model Accuracy: 33.33%\n"
     ]
    }
   ],
   "source": [
    "# Week 2 - Smart Irrigation - AICTE Internship\n",
    "\n",
    "# 1. Import necessary libraries\n",
    "import pandas as pd\n",
    "import numpy as np\n",
    "import pickle\n",
    "from sklearn.model_selection import train_test_split\n",
    "from sklearn.linear_model import LogisticRegression\n",
    "from sklearn.metrics import accuracy_score\n",
    "\n",
    "# 2. Sample dataset (you can replace this with actual Smart Irrigation data if given)\n",
    "data = {\n",
    "    'Temperature': [25, 30, 35, 28, 32, 26, 24],\n",
    "    'Humidity': [70, 65, 80, 60, 75, 85, 90],\n",
    "    'SoilMoisture': [35, 30, 45, 20, 25, 55, 60],\n",
    "    'WaterNeeded': [1, 1, 1, 0, 0, 1, 1]  # 1 = Water required, 0 = No water needed\n",
    "}\n",
    "\n",
    "df = pd.DataFrame(data)\n",
    "\n",
    "# 3. Define features and label\n",
    "X = df[['Temperature', 'Humidity', 'SoilMoisture']]\n",
    "y = df['WaterNeeded']\n",
    "\n",
    "# 4. Split the dataset\n",
    "X_train, X_test, y_train, y_test = train_test_split(X, y, test_size=0.3, random_state=42)\n",
    "\n",
    "# 5. Train the model\n",
    "model = LogisticRegression()\n",
    "model.fit(X_train, y_train)\n",
    "\n",
    "# 6. Predict and check accuracy\n",
    "y_pred = model.predict(X_test)\n",
    "accuracy = accuracy_score(y_test, y_pred)\n",
    "\n",
    "print(f\"Model Accuracy: {accuracy * 100:.2f}%\")\n",
    "\n",
    "# 7. Save the model as a pickle file\n",
    "with open('smart_irrigation_model.pkl', 'wb') as file:\n",
    "    pickle.dump(model, file)"
   ]
  },
  {
   "cell_type": "code",
   "execution_count": null,
   "id": "6fb419d2-152c-4940-b633-e642e826fc2d",
   "metadata": {},
   "outputs": [],
   "source": []
  }
 ],
 "metadata": {
  "kernelspec": {
   "display_name": "Python 3 (ipykernel)",
   "language": "python",
   "name": "python3"
  },
  "language_info": {
   "codemirror_mode": {
    "name": "ipython",
    "version": 3
   },
   "file_extension": ".py",
   "mimetype": "text/x-python",
   "name": "python",
   "nbconvert_exporter": "python",
   "pygments_lexer": "ipython3",
   "version": "3.12.7"
  }
 },
 "nbformat": 4,
 "nbformat_minor": 5
}
